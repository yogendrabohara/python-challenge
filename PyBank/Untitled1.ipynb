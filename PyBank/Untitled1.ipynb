{
 "cells": [
  {
   "cell_type": "code",
   "execution_count": 4,
   "metadata": {},
   "outputs": [
    {
     "name": "stdout",
     "output_type": "stream",
     "text": [
      "CSV Header: ['ï»¿Date', 'Profit/Losses']\n",
      "86\n"
     ]
    }
   ],
   "source": [
    "import os\n",
    "import csv \n",
    "\n",
    "total_months=[]\n",
    "total_amount_change=[]\n",
    "average_change_between_months=[]\n",
    "greatest_increase_in_profits=[]\n",
    "greatest_decrease_in_profits=[]\n",
    "csvpath = os.path.join(\".\", \"budgetdata1.csv\")\n",
    "\n",
    "with open(csvpath, newline='') as csvfile:\n",
    "    csvreader=csv.reader(csvfile,delimiter=',')\n",
    "#     print(csvreader)\n",
    "    csv_header=next(csvreader)\n",
    "    print(f\"CSV Header: {csv_header}\")\n",
    "    #for data in csvreader:\n",
    "        #print(data)\n",
    "      \n",
    "    for row in csvreader:\n",
    "       #print(row)\n",
    "        #adding title\n",
    "        total_months.append(row[0])\n",
    "        total_amount_change.append(row[1])\n",
    "        \n",
    "\n",
    "        \n",
    "num_of_months=len(total_months)\n",
    "# total_amount_change=\n",
    "print(num_of_months)   \n"
   ]
  },
  {
   "cell_type": "code",
   "execution_count": null,
   "metadata": {},
   "outputs": [],
   "source": []
  }
 ],
 "metadata": {
  "kernelspec": {
   "display_name": "Python 3",
   "language": "python",
   "name": "python3"
  },
  "language_info": {
   "codemirror_mode": {
    "name": "ipython",
    "version": 3
   },
   "file_extension": ".py",
   "mimetype": "text/x-python",
   "name": "python",
   "nbconvert_exporter": "python",
   "pygments_lexer": "ipython3",
   "version": "3.7.0"
  }
 },
 "nbformat": 4,
 "nbformat_minor": 2
}
