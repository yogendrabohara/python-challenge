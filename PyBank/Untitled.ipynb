{
 "cells": [
  {
   "cell_type": "code",
   "execution_count": 4,
   "metadata": {},
   "outputs": [
    {
     "name": "stdout",
     "output_type": "stream",
     "text": [
      ".\\budgetdata1.csv\n",
      "<_csv.reader object at 0x00000297BB9B39A0>\n",
      "CSV Header:['ï»¿Date', 'Profit/Losses']\n"
     ]
    },
    {
     "ename": "AttributeError",
     "evalue": "'int' object has no attribute 'append'",
     "output_type": "error",
     "traceback": [
      "\u001b[1;31m---------------------------------------------------------------------------\u001b[0m",
      "\u001b[1;31mAttributeError\u001b[0m                            Traceback (most recent call last)",
      "\u001b[1;32m<ipython-input-4-8ea11e6aec89>\u001b[0m in \u001b[0;36m<module>\u001b[1;34m()\u001b[0m\n\u001b[0;32m     24\u001b[0m \u001b[1;33m\u001b[0m\u001b[0m\n\u001b[0;32m     25\u001b[0m \u001b[1;31m#calculating total change\u001b[0m\u001b[1;33m\u001b[0m\u001b[1;33m\u001b[0m\u001b[0m\n\u001b[1;32m---> 26\u001b[1;33m         \u001b[0mprofitLosses\u001b[0m\u001b[1;33m.\u001b[0m\u001b[0mappend\u001b[0m\u001b[1;33m(\u001b[0m\u001b[1;33m[\u001b[0m\u001b[1;36m1\u001b[0m\u001b[1;33m]\u001b[0m\u001b[1;33m)\u001b[0m\u001b[1;33m\u001b[0m\u001b[0m\n\u001b[0m\u001b[0;32m     27\u001b[0m \u001b[1;32mfor\u001b[0m \u001b[0mprofitLosses\u001b[0m \u001b[1;32min\u001b[0m \u001b[0mprofitLosses\u001b[0m\u001b[1;33m:\u001b[0m\u001b[1;33m\u001b[0m\u001b[0m\n\u001b[0;32m     28\u001b[0m     \u001b[0mtotal_change\u001b[0m\u001b[1;33m=\u001b[0m\u001b[0mtotal_change\u001b[0m\u001b[1;33m+\u001b[0m\u001b[0mprofitLosses\u001b[0m\u001b[1;33m\u001b[0m\u001b[0m\n",
      "\u001b[1;31mAttributeError\u001b[0m: 'int' object has no attribute 'append'"
     ]
    }
   ],
   "source": [
    "import os\n",
    "import csv\n",
    "csvpath=os.path.join(\".\",\"budgetdata1.csv\")\n",
    "print(csvpath)\n",
    "totalmonth=[]\n",
    "total_change=[]\n",
    "profitLosses=[]\n",
    "average_change=[]\n",
    "#intializing the values for variables\n",
    "total_change=0\n",
    "profitLosses=0\n",
    "average_change=0\n",
    "with open(csvpath, newline=\"\")as csvfile:\n",
    "    csvreader=csv.reader(csvfile , delimiter=\",\")\n",
    "    print(csvreader)\n",
    "    csv_header=next(csvreader)\n",
    "    print(f\"CSV Header:{csv_header}\")\n",
    "    #assigning months and profit/losses\n",
    "    for row in csvreader:\n",
    "        totalmonth.append(row[0])\n",
    "        \n",
    "#calculating total numbers of months\n",
    "num_of_months=len(totalmonth)\n",
    "        \n",
    "#calculating total change \n",
    "        profitLosses.append([1])\n",
    "for profitLosses in profitLosses:\n",
    "    total_change=total_change+profitLosses\n",
    "#calculation of average_change\n",
    "for i in range(len(profitLosses)-1):\n",
    "    changes.append(int(profitLosses[i+1])-int(profitLosses[i]))\n",
    "total_change=total_change+changes\n",
    "#average change\n",
    "average_change=round(total_change/len(changes),2)\n",
    "#Greatest Increase/Decrease in profit\n",
    "greatest_increase=max(changes)\n",
    "greatest_decrease=min(changes)\n",
    "increase_index=changes.index(greatest_increase)\n",
    "decrease_index=changes.index(greatest_decrease)\n",
    "increase_month=months[increase_index+1]\n",
    "decrease_month=months[decrease_index+1]\n",
    "\n",
    "#final result\n",
    "print(\"Financial Analysis\")\n",
    "print(\"----------------------------\")\n",
    "print(f\"Total months : {num_of_months}\")   \n",
    "print(f\"Total:{total_change}\")        \n",
    "print(f\"Average Change:{average_change}\")\n",
    "print(f\"Greatest Increase in Profits:{increase_month}(${greatest_increase})\")\n",
    "print(f\"Greatest Decrease in Profits:{decrease_month}(${greatest_decrease})\")\n"
   ]
  },
  {
   "cell_type": "code",
   "execution_count": null,
   "metadata": {},
   "outputs": [],
   "source": [
    "  \n"
   ]
  },
  {
   "cell_type": "code",
   "execution_count": null,
   "metadata": {},
   "outputs": [],
   "source": []
  },
  {
   "cell_type": "code",
   "execution_count": null,
   "metadata": {},
   "outputs": [],
   "source": []
  }
 ],
 "metadata": {
  "kernelspec": {
   "display_name": "Python 3",
   "language": "python",
   "name": "python3"
  },
  "language_info": {
   "codemirror_mode": {
    "name": "ipython",
    "version": 3
   },
   "file_extension": ".py",
   "mimetype": "text/x-python",
   "name": "python",
   "nbconvert_exporter": "python",
   "pygments_lexer": "ipython3",
   "version": "3.7.0"
  }
 },
 "nbformat": 4,
 "nbformat_minor": 2
}
