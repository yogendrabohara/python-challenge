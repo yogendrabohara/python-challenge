{
 "cells": [
  {
   "cell_type": "code",
   "execution_count": 3,
   "metadata": {},
   "outputs": [
    {
     "ename": "IndentationError",
     "evalue": "expected an indented block (<ipython-input-3-00c3de3dc835>, line 14)",
     "output_type": "error",
     "traceback": [
      "\u001b[1;36m  File \u001b[1;32m\"<ipython-input-3-00c3de3dc835>\"\u001b[1;36m, line \u001b[1;32m14\u001b[0m\n\u001b[1;33m    if row[2] in votes_count.keys():\u001b[0m\n\u001b[1;37m                                    ^\u001b[0m\n\u001b[1;31mIndentationError\u001b[0m\u001b[1;31m:\u001b[0m expected an indented block\n"
     ]
    }
   ],
   "source": [
    "import os\n",
    "import csv\n",
    "csvpath=os.path.join(\"election_data.csv\")\n",
    "print(csvpath)\n",
    "votes_count={}\n",
    "percetage_vote=[]\n",
    "with open(csvpath, newline=\"\") as csvfile:\n",
    "    csvreader=csv.reader(csvfile , delimiter=\",\")\n",
    "    print(csvreader)\n",
    "    csvheader=next(csvreader)\n",
    "    print(f\"CSV header:{csvreader}\")\n",
    "    for row in csvreader:\n",
    "#if the candidate is in votes_count,add 1\n",
    "if row[2] in votes_count.keys():\n",
    "        votes_count[row[2]]+=1\n",
    "#Else add the candidates to vote_count,set the value to 1\n",
    "    else:\n",
    "        votes_count[row[2]]=1\n",
    "        print(votes_count)\n",
    "#calculating total votes\n",
    "total_votes=sum(votes_count.values())\n",
    "print(total_votes)\n",
    "candidates=tuple(vote_count.keys())\n",
    "print(candidates)\n",
    "votes=tuple(votes_count.values())\n",
    "print(votes)\n",
    "#calculating percentage of votes \n",
    "    for vote in votes:\n",
    "        percentage_vote.append(round(vote/total_votes*100,2))\n",
    "        print(percentage_vote)\n",
    "#formattng the percentage votes\n",
    "formatted_percentage=[\"{}%\".format(percentage)for percentage in percentage_vote]\n",
    "print(formatted_percentage)\n",
    "\n",
    "#finding the maximum votes from the dictionary\n",
    "maximum_votes=max(votes_count.values())\n",
    "print(maximum_votes)\n",
    "\n",
    "#finding the candidate from dictionary corresponding to maximum votes\n",
    "winner=[key for key, value in votes_count.items()if value==maximum_votes]\n",
    "print(winner)\n",
    "\n",
    "#final Result\n",
    "print(\"Election Results\")\n",
    "print(\"---------------------------\")\n",
    "print(\"Total Votes:\", total_votes)\n",
    "print(\"--------------------------\")\n",
    "print(candidate[0],\":\",formatted_percentage[0],votes[0])\n",
    "print(candidate[1],\":\",formatted_percentage[1],votes[1])\n",
    "print(candidate[2],\":\",formatted_percentage[2],votes[2])\n",
    "print(candidate[3],\":\",formatted_percentage[3],votes[3])\n",
    "print(---------------------------------)"
   ]
  },
  {
   "cell_type": "code",
   "execution_count": null,
   "metadata": {},
   "outputs": [],
   "source": []
  }
 ],
 "metadata": {
  "kernelspec": {
   "display_name": "Python 3",
   "language": "python",
   "name": "python3"
  },
  "language_info": {
   "codemirror_mode": {
    "name": "ipython",
    "version": 3
   },
   "file_extension": ".py",
   "mimetype": "text/x-python",
   "name": "python",
   "nbconvert_exporter": "python",
   "pygments_lexer": "ipython3",
   "version": "3.7.0"
  }
 },
 "nbformat": 4,
 "nbformat_minor": 2
}
